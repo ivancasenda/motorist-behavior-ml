{
 "cells": [
  {
   "cell_type": "code",
   "execution_count": null,
   "metadata": {},
   "outputs": [],
   "source": [
    "import numpy as np \n",
    "import tensorflow as tf \n",
    "import matplotlib.pyplot as plt \n",
    "import pathlib\n",
    "import seaborn as sns\n",
    "from sklearn.metrics import classification_report\n",
    "from src.data.dataset_loader import load_distracted_driver_detection_list, load_dataset_image_label\n",
    "from src.data.image_label_loader import ImageLabelLoader\n",
    "from src.evaluation import metrics\n",
    "from src.utils.data_util import get_paths, sample_dataset\n",
    "from src.preprocessing.image import hog_feature, color_histogram_hsv\n",
    "from src.preprocessing.standardizer import Standardizer\n",
    "from src.preprocessing.features_extractor import extract_features\n",
    "from src.visualization.history_plotter import plot_loss_acc_history_epoch\n",
    "from src.visualization.weights_visualization import visualize_weights\n",
    "from src.classifiers.fc_net import FullyConnectedNet\n",
    "from src.solver.solver import Solver\n",
    "\n",
    "%load_ext autoreload\n",
    "%autoreload 2"
   ]
  },
  {
   "cell_type": "code",
   "execution_count": 2,
   "metadata": {},
   "outputs": [
    {
     "name": "stdout",
     "output_type": "stream",
     "text": [
      "Training set size: 17761\n",
      "Validation set size: 4663\n",
      "Number of classes: 10\n"
     ]
    }
   ],
   "source": [
    "data_dir = pathlib.Path(\"dataset/raw/imgs/train\") # Train directory\n",
    "\n",
    "X_train_filenames, X_val_filenames, y_train_labels, y_val_labels = load_distracted_driver_detection_list(val_size=0.2, split_on_driver=True, random_state=12)\n",
    "train_paths = get_paths(data_dir, X_train_filenames, y_train_labels)\n",
    "val_paths = get_paths(data_dir, X_val_filenames, y_val_labels)\n",
    "class_names = np.array(sorted([item.name for item in data_dir.glob('*')]))\n",
    "\n",
    "num_train = len(train_paths)\n",
    "num_val = len(val_paths)\n",
    "num_classes = len(class_names)\n",
    "\n",
    "print(f'Training set size: {num_train}')\n",
    "print(f'Validation set size: {num_val}')\n",
    "print(f'Number of classes: {num_classes}')"
   ]
  },
  {
   "cell_type": "code",
   "execution_count": 3,
   "metadata": {},
   "outputs": [],
   "source": [
    "def wrap_features(image, label):\n",
    "    image = tf.numpy_function(features, [image], tf.float32)\n",
    "    return image, label\n",
    "\n",
    "def features(image):\n",
    "    num_color_bins = 20 # Number of bins in the color histogram\n",
    "    feature_fns = [hog_feature, lambda img: color_histogram_hsv(img, nbin=num_color_bins)]\n",
    "    image = extract_features(image, feature_fns, verbose=True)\n",
    "    image = tf.convert_to_tensor(image, dtype=tf.float32)\n",
    "    return image\n",
    "\n",
    "def preprocess(X_batch, y_batch):\n",
    "    X_batch = standardizer.transform(X_batch) # Standardize\n",
    "    return X_batch, y_batch"
   ]
  },
  {
   "cell_type": "code",
   "execution_count": 4,
   "metadata": {},
   "outputs": [],
   "source": [
    "# Cleaning up variables to prevent loading data multiple times (which may cause memory issue)\n",
    "try:\n",
    "   del train_dset\n",
    "   del val_dset\n",
    "   print('Clear previously loaded data.')\n",
    "except:\n",
    "   pass\n",
    "\n",
    "CPU = '/cpu:0'\n",
    "GPU = '/device:GPU:0'\n",
    "\n",
    "BATCH_SIZE = 128\n",
    "IMG_SHAPE = (64, 64, 3)\n",
    "loader = ImageLabelLoader(class_names, img_shape=IMG_SHAPE)\n",
    "standardizer = Standardizer()\n",
    "\n",
    "# Force image load and preprocessing with specific device\n",
    "with tf.device(CPU):\n",
    "    # Train dataset input pipeline\n",
    "    train_dset = tf.data.Dataset.from_tensor_slices(train_paths)\n",
    "    train_dset = train_dset.map(loader.load, num_parallel_calls=tf.data.experimental.AUTOTUNE) # Load from path to image, label\n",
    "    train_dset = train_dset.map(wrap_features, num_parallel_calls=tf.data.experimental.AUTOTUNE) # Extract image features\n",
    "    train_dset = train_dset.cache()\n",
    "    train_dset = train_dset.shuffle(buffer_size=num_train, reshuffle_each_iteration=True)\n",
    "    train_dset = train_dset.batch(BATCH_SIZE, drop_remainder=False)\n",
    "    standardizer.fit(train_dset) # Fit mean and std to train set\n",
    "    train_dset = train_dset.map(preprocess, num_parallel_calls=tf.data.experimental.AUTOTUNE)\n",
    "    train_dset = train_dset.prefetch(buffer_size=tf.data.experimental.AUTOTUNE)\n",
    "\n",
    "    # Validation dataset input pipeline\n",
    "    val_dset = tf.data.Dataset.from_tensor_slices(val_paths)\n",
    "    val_dset = val_dset.map(loader.load, num_parallel_calls=tf.data.experimental.AUTOTUNE)\n",
    "    val_dset = val_dset.map(wrap_features, num_parallel_calls=tf.data.experimental.AUTOTUNE)\n",
    "    val_dset = val_dset.batch(BATCH_SIZE, drop_remainder=False)\n",
    "    val_dset = val_dset.map(preprocess, num_parallel_calls=tf.data.experimental.AUTOTUNE)\n",
    "    val_dset = val_dset.cache()\n",
    "    val_dset = val_dset.prefetch(buffer_size=tf.data.experimental.AUTOTUNE)"
   ]
  },
  {
   "cell_type": "code",
   "execution_count": null,
   "metadata": {
    "tags": []
   },
   "outputs": [],
   "source": [
    "img_batch, _ = next(iter(train_dset))\n",
    "input_dim = img_batch.shape[1]\n",
    "HIDDEN_DIM = [128]\n",
    "\n",
    "learning_rates = [1e-3, 1e-4, 1e-5]\n",
    "lr_decays = [0.95, 0.85]\n",
    "weight_scales = [1e-3, 1e-4, 1e-2]\n",
    "reg_strengths = [0.5, 0.25, 1e-2]\n",
    "\n",
    "best_val =-1\n",
    "best_solver = None\n",
    "\n",
    "# permute over hyperparameters\n",
    "grid_search = [(learning_rate, lr_decay, weight_scale, reg_strength) \\\n",
    "                for learning_rate in learning_rates \\\n",
    "                for lr_decay in lr_decays \\\n",
    "                for weight_scale in weight_scales \\\n",
    "                for reg_strength in reg_strengths \\\n",
    "                ]\n",
    "\n",
    "for learning_rate, lr_decay, weight_scale, reg_strength in grid_search:\n",
    "    model = FullyConnectedNet(HIDDEN_DIM, input_dim, num_classes, weight_scale=weight_scale, reg=reg_strength)\n",
    "    solver = Solver(model, train_dset, val_dset,\n",
    "                    update_rule='adam',\n",
    "                    optim_config={\n",
    "                        'learning_rate': learning_rate\n",
    "                    },\n",
    "                    lr_decay=lr_decay,\n",
    "                    num_epochs=5,\n",
    "                    verbose=False)\n",
    "\n",
    "    solver.train()\n",
    "\n",
    "    train_loss, train_acc = solver.evaluate(train_dset)\n",
    "    val_loss, val_acc = solver.evaluate(val_dset)\n",
    "    if val_acc >= best_val:\n",
    "        best_val = val_acc\n",
    "        best_solver = solver\n",
    "\n",
    "    print('(learning_rate %e - lr_decay %e - weight_scale %e - reg_strength %e - train_acc %f -  val_acc %f)' % (learning_rate, lr_decay, weight_scale, reg_strength, train_acc, val_acc))\n",
    "    print(\"===============================================\")"
   ]
  },
  {
   "cell_type": "code",
   "execution_count": 8,
   "metadata": {},
   "outputs": [
    {
     "name": "stdout",
     "output_type": "stream",
     "text": [
      "Epoch 1/20\n",
      "139/139 - loss: 1.1807 - accuracy: 0.7628 - val_loss: 0.3720 - val_accuracy: 0.7225\n",
      "Epoch 2/20\n",
      "139/139 - loss: 0.4685 - accuracy: 0.9801 - val_loss: 0.3320 - val_accuracy: 0.7667\n",
      "Epoch 3/20\n",
      "139/139 - loss: 0.3969 - accuracy: 0.9887 - val_loss: 0.3084 - val_accuracy: 0.7714\n",
      "Epoch 4/20\n",
      "139/139 - loss: 0.3729 - accuracy: 0.9886 - val_loss: 0.3255 - val_accuracy: 0.7504\n",
      "Epoch 5/20\n",
      "139/139 - loss: 0.3594 - accuracy: 0.9909 - val_loss: 0.4020 - val_accuracy: 0.7585\n",
      "Epoch 6/20\n",
      "139/139 - loss: 0.3507 - accuracy: 0.9922 - val_loss: 0.3292 - val_accuracy: 0.7722\n",
      "Epoch 7/20\n",
      "139/139 - loss: 0.3436 - accuracy: 0.9931 - val_loss: 0.4472 - val_accuracy: 0.7598\n",
      "Epoch 8/20\n",
      "139/139 - loss: 0.3416 - accuracy: 0.9927 - val_loss: 0.3326 - val_accuracy: 0.7630\n",
      "Epoch 9/20\n",
      "139/139 - loss: 0.3364 - accuracy: 0.9940 - val_loss: 0.3239 - val_accuracy: 0.7547\n",
      "Epoch 10/20\n",
      "139/139 - loss: 0.3333 - accuracy: 0.9942 - val_loss: 0.3904 - val_accuracy: 0.7540\n",
      "Epoch 11/20\n",
      "139/139 - loss: 0.3304 - accuracy: 0.9946 - val_loss: 0.3067 - val_accuracy: 0.7562\n",
      "Epoch 12/20\n",
      "139/139 - loss: 0.3295 - accuracy: 0.9943 - val_loss: 0.2932 - val_accuracy: 0.7596\n",
      "Epoch 13/20\n",
      "139/139 - loss: 0.3265 - accuracy: 0.9949 - val_loss: 0.2727 - val_accuracy: 0.7662\n",
      "Epoch 14/20\n",
      "139/139 - loss: 0.3245 - accuracy: 0.9952 - val_loss: 0.2938 - val_accuracy: 0.7600\n",
      "Epoch 15/20\n",
      "139/139 - loss: 0.3233 - accuracy: 0.9950 - val_loss: 0.2938 - val_accuracy: 0.7457\n",
      "Epoch 16/20\n",
      "139/139 - loss: 0.3224 - accuracy: 0.9954 - val_loss: 0.2870 - val_accuracy: 0.7637\n",
      "Epoch 17/20\n",
      "139/139 - loss: 0.3211 - accuracy: 0.9950 - val_loss: 0.2968 - val_accuracy: 0.7517\n",
      "Epoch 18/20\n",
      "139/139 - loss: 0.3190 - accuracy: 0.9966 - val_loss: 0.3279 - val_accuracy: 0.7675\n",
      "Epoch 19/20\n",
      "139/139 - loss: 0.3177 - accuracy: 0.9956 - val_loss: 0.2727 - val_accuracy: 0.7581\n",
      "Epoch 20/20\n",
      "139/139 - loss: 0.3164 - accuracy: 0.9960 - val_loss: 0.2842 - val_accuracy: 0.7472\n"
     ]
    }
   ],
   "source": [
    "img_batch, _ = next(iter(train_dset))\n",
    "input_dim = img_batch.shape[1]\n",
    "HIDDEN_DIM = [128]\n",
    "\n",
    "model = FullyConnectedNet(HIDDEN_DIM, input_dim, num_classes, weight_scale=1e-3, reg=1e-2)\n",
    "solver = Solver(model, train_dset, val_dset,\n",
    "                update_rule='adam',\n",
    "                optim_config={\n",
    "                    'learning_rate': 1e-3\n",
    "                },\n",
    "                lr_decay=0.95,\n",
    "                num_epochs=20,\n",
    "                verbose=True)\n",
    "\n",
    "solver.train()"
   ]
  },
  {
   "cell_type": "code",
   "execution_count": null,
   "metadata": {},
   "outputs": [],
   "source": [
    "plot_loss_acc_history_epoch(solver.loss_history, solver.val_loss_history, solver.accuracy_history, solver.val_accuracy_history)"
   ]
  },
  {
   "cell_type": "code",
   "execution_count": 10,
   "metadata": {},
   "outputs": [
    {
     "name": "stdout",
     "output_type": "stream",
     "text": [
      "Log Loss: 0.7216261263034796\n",
      "Val Accuracy: 0.7722496247051255\n",
      "Confusion Matrix:\n",
      "[[351.  26.   1.  72.   2.   0.   0.   1.   0.  10.]\n",
      " [ 11. 363.  18.  41.   1.   0.   3.  25.   0.   8.]\n",
      " [ 37.  52. 371.   3.   6.   7.  16.   2.   4.   1.]\n",
      " [ 65.  47.   0. 363.   1.   1.   0.   0.   0.  13.]\n",
      " [ 54.   8.   0.  50. 374.   1.   0.   0.   0.   9.]\n",
      " [  9.  10.   0.   3.   6. 470.   0.   0.   6.   1.]\n",
      " [  3.  50.   9.   5.  11.   0. 398.   0.   7.   0.]\n",
      " [  2.   0.   1.   1.   2.   0.   3. 387.   0.   4.]\n",
      " [ 28.  15.   7.  19.   5.   0.   6.  12. 308.   4.]\n",
      " [ 28.   0.   1.  60.  40.  16.   1.   1.  90. 216.]]\n",
      "Confusion Matrix Heatmap:\n"
     ]
    },
    {
     "data": {
      "image/png": "[encoded data removed]",
      "text/plain": [
       "<Figure size 432x288 with 1 Axes>"
      ]
     },
     "metadata": {
      "needs_background": "light"
     },
     "output_type": "display_data"
    }
   ],
   "source": [
    "y_true = []\n",
    "y_pred = []\n",
    "y_scores = []\n",
    "for _,(X_batch, y_batch) in enumerate(val_dset.as_numpy_iterator()):\n",
    "    y_true.append(y_batch)\n",
    "\n",
    "    scores = model.predict(X_batch)\n",
    "    y_scores.append(scores)\n",
    "    prediction = np.argmax(scores, axis=1)\n",
    "    y_pred.append(prediction)\n",
    "    \n",
    "y_true = np.hstack(y_true)\n",
    "y_pred = np.hstack(y_pred)\n",
    "y_scores = np.concatenate(y_scores)\n",
    "\n",
    "# Log Loss Score\n",
    "log_loss = metrics.log_loss(y_true, y_scores)\n",
    "print(f\"Log Loss: {log_loss}\")\n",
    "\n",
    "# Validation Accuracy\n",
    "val_acc = metrics.accuracy(y_true, y_pred)\n",
    "print(f\"Val Accuracy: {val_acc}\")\n",
    "\n",
    "# Confusion Matrix\n",
    "conf_matrix = metrics.confusion_matrix(y_true, y_pred)\n",
    "print('Confusion Matrix:')\n",
    "print(conf_matrix)\n",
    "\n",
    "# Heatmap of the confusion matrix\n",
    "print(\"Confusion Matrix Heatmap:\")\n",
    "plt.imshow(conf_matrix, cmap='hot', interpolation='nearest')\n",
    "plt.show()"
   ]
  },
  {
   "cell_type": "code",
   "execution_count": 13,
   "metadata": {},
   "outputs": [
    {
     "name": "stdout",
     "output_type": "stream",
     "text": [
      "Log Loss: 0.7216261263034796\n",
      "Accuracy: 0.7722496247051255\n"
     ]
    },
    {
     "data": {
      "image/png": "[encoded data removed]",
      "text/plain": [
       "<Figure size 864x504 with 2 Axes>"
      ]
     },
     "metadata": {
      "needs_background": "light"
     },
     "output_type": "display_data"
    }
   ],
   "source": [
    "y_true = []\n",
    "y_pred = []\n",
    "y_scores = []\n",
    "for _,(X_batch, y_batch) in enumerate(val_dset.as_numpy_iterator()):\n",
    "    y_true.append(y_batch)\n",
    "\n",
    "    scores = model.predict(X_batch)\n",
    "    y_scores.append(scores)\n",
    "    prediction = np.argmax(scores, axis=1)\n",
    "    y_pred.append(prediction)\n",
    "    \n",
    "y_true = np.hstack(y_true)\n",
    "y_pred = np.hstack(y_pred)\n",
    "y_scores = np.concatenate(y_scores)\n",
    "\n",
    "# Log Loss Score\n",
    "log_loss = metrics.log_loss(y_true, y_scores)\n",
    "print(f\"Log Loss: {log_loss}\")\n",
    "\n",
    "# Validation Accuracy\n",
    "val_acc = metrics.accuracy(y_true, y_pred)\n",
    "print(f\"Accuracy: {val_acc}\")\n",
    "\n",
    "# Heat Map\n",
    "plt.figure(figsize=(12, 7))\n",
    "heatmap = sns.heatmap(conf_matrix, annot=True, fmt='g')\n",
    "heatmap.set_xlabel(\"Predicted Class\", fontsize = 15)\n",
    "heatmap.set_ylabel(\"True Class\", fontsize = 15)\n",
    "plt.show()"
   ]
  },
  {
   "cell_type": "code",
   "execution_count": 14,
   "metadata": {},
   "outputs": [
    {
     "name": "stdout",
     "output_type": "stream",
     "text": [
      "                              precision    recall  f1-score   support\n",
      "\n",
      "                Safe Driving       0.60      0.76      0.67       463\n",
      "             Texting - Right       0.64      0.77      0.70       470\n",
      "Talking on the phone - Right       0.91      0.74      0.82       499\n",
      "              Texting - Left       0.59      0.74      0.66       490\n",
      " Talking on the phone - Left       0.83      0.75      0.79       496\n",
      "         Operating The Radio       0.95      0.93      0.94       505\n",
      "                    Drinking       0.93      0.82      0.87       483\n",
      "             Reaching Behind       0.90      0.97      0.93       400\n",
      "             Hair and Makeup       0.74      0.76      0.75       404\n",
      "        Talking to Passanger       0.81      0.48      0.60       453\n",
      "\n",
      "                    accuracy                           0.77      4663\n",
      "                   macro avg       0.79      0.77      0.77      4663\n",
      "                weighted avg       0.79      0.77      0.77      4663\n",
      "\n"
     ]
    }
   ],
   "source": [
    "class_desc = ['Safe Driving', 'Texting - Right', 'Talking on the phone - Right', \n",
    "'Texting - Left', 'Talking on the phone - Left', 'Operating The Radio', \n",
    "'Drinking', 'Reaching Behind', 'Hair and Makeup', 'Talking to Passanger']\n",
    "\n",
    "print(classification_report(y_true, y_pred, target_names=class_desc))"
   ]
  }
 ],
 "metadata": {
  "interpreter": {
   "hash": "d7ea954f3ef6ceb8d02884ce666b6345b7d6952bb3a463be1b82c9c49c93db10"
  },
  "kernelspec": {
   "display_name": "Python 3.6.13 64-bit ('ds': conda)",
   "name": "python3"
  },
  "language_info": {
   "codemirror_mode": {
    "name": "ipython",
    "version": 3
   },
   "file_extension": ".py",
   "mimetype": "text/x-python",
   "name": "python",
   "nbconvert_exporter": "python",
   "pygments_lexer": "ipython3",
   "version": "3.6.13"
  },
  "metadata": {
   "interpreter": {
    "hash": "31f2aee4e71d21fbe5cf8b01ff0e069b9275f58929596ceb00d14d90e3e16cd6"
   }
  },
  "orig_nbformat": 2
 },
 "nbformat": 4,
 "nbformat_minor": 2
}
