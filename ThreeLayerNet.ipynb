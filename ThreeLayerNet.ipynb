{
 "cells": [
  {
   "cell_type": "code",
   "execution_count": null,
   "metadata": {},
   "outputs": [],
   "source": [
    "import numpy as np \n",
    "import tensorflow as tf \n",
    "import matplotlib.pyplot as plt \n",
    "import pathlib\n",
    "import seaborn as sns\n",
    "from sklearn.metrics import classification_report\n",
    "from src.data.dataset_loader import load_distracted_driver_detection_list, load_dataset_image_label\n",
    "from src.data.image_label_loader import ImageLabelLoader\n",
    "from src.evaluation import metrics\n",
    "from src.utils.data_util import get_paths, sample_dataset\n",
    "from src.preprocessing.image import hog_feature, color_histogram_hsv\n",
    "from src.preprocessing.standardizer import Standardizer\n",
    "from src.preprocessing.features_extractor import extract_features\n",
    "from src.visualization.history_plotter import plot_loss_acc_history_epoch\n",
    "from src.visualization.weights_visualization import visualize_weights\n",
    "from src.classifiers.fc_net import FullyConnectedNet\n",
    "from src.solver.solver import Solver\n",
    "\n",
    "%load_ext autoreload\n",
    "%autoreload 2"
   ]
  },
  {
   "cell_type": "code",
   "execution_count": 2,
   "metadata": {},
   "outputs": [
    {
     "name": "stdout",
     "output_type": "stream",
     "text": [
      "Training set size: 17697\n",
      "Validation set size: 4780\n",
      "Number of classes: 10\n"
     ]
    }
   ],
   "source": [
    "data_dir = pathlib.Path(\"dataset/raw/imgs/train\") # Train directory\n",
    "\n",
    "X_train_filenames, X_val_filenames, y_train_labels, y_val_labels = load_distracted_driver_detection_list(val_size=0.2, split_on_driver=True)\n",
    "train_paths = get_paths(data_dir, X_train_filenames, y_train_labels)\n",
    "val_paths = get_paths(data_dir, X_val_filenames, y_val_labels)\n",
    "class_names = np.array(sorted([item.name for item in data_dir.glob('*')]))\n",
    "\n",
    "num_train = len(train_paths)\n",
    "num_val = len(val_paths)\n",
    "num_classes = len(class_names)\n",
    "\n",
    "print(f'Training set size: {num_train}')\n",
    "print(f'Validation set size: {num_val}')\n",
    "print(f'Number of classes: {num_classes}')"
   ]
  },
  {
   "cell_type": "code",
   "execution_count": 3,
   "metadata": {},
   "outputs": [],
   "source": [
    "def wrap_features(image, label):\n",
    "    image = tf.numpy_function(features, [image], tf.float32)\n",
    "    return image, label\n",
    "\n",
    "def features(image):\n",
    "    num_color_bins = 20 # Number of bins in the color histogram\n",
    "    feature_fns = [hog_feature, lambda img: color_histogram_hsv(img, nbin=num_color_bins)]\n",
    "    image = extract_features(image, feature_fns, verbose=True)\n",
    "    image = tf.convert_to_tensor(image, dtype=tf.float32)\n",
    "    return image\n",
    "\n",
    "def preprocess(X_batch, y_batch):\n",
    "    X_batch = standardizer.transform(X_batch) # Standardize\n",
    "    return X_batch, y_batch"
   ]
  },
  {
   "cell_type": "code",
   "execution_count": 4,
   "metadata": {},
   "outputs": [],
   "source": [
    "# Cleaning up variables to prevent loading data multiple times (which may cause memory issue)\n",
    "try:\n",
    "   del train_dset\n",
    "   del val_dset\n",
    "   print('Clear previously loaded data.')\n",
    "except:\n",
    "   pass\n",
    "\n",
    "CPU = '/cpu:0'\n",
    "GPU = '/device:GPU:0'\n",
    "\n",
    "BATCH_SIZE = 128\n",
    "IMG_SHAPE = (64, 64, 3)\n",
    "loader = ImageLabelLoader(class_names, img_shape=IMG_SHAPE)\n",
    "standardizer = Standardizer()\n",
    "\n",
    "# Force image load and preprocessing with specific device\n",
    "with tf.device(CPU):\n",
    "    # Train dataset input pipeline\n",
    "    train_dset = tf.data.Dataset.from_tensor_slices(train_paths)\n",
    "    train_dset = train_dset.map(loader.load, num_parallel_calls=tf.data.experimental.AUTOTUNE) # Load from path to image, label\n",
    "    train_dset = train_dset.map(wrap_features, num_parallel_calls=tf.data.experimental.AUTOTUNE) # Extract image features\n",
    "    train_dset = train_dset.cache()\n",
    "    train_dset = train_dset.shuffle(buffer_size=num_train, reshuffle_each_iteration=True)\n",
    "    train_dset = train_dset.batch(BATCH_SIZE, drop_remainder=False)\n",
    "    standardizer.fit(train_dset) # Fit mean and std to train set\n",
    "    train_dset = train_dset.map(preprocess, num_parallel_calls=tf.data.experimental.AUTOTUNE)\n",
    "    train_dset = train_dset.prefetch(buffer_size=tf.data.experimental.AUTOTUNE)\n",
    "\n",
    "    # Validation dataset input pipeline\n",
    "    val_dset = tf.data.Dataset.from_tensor_slices(val_paths)\n",
    "    val_dset = val_dset.map(loader.load, num_parallel_calls=tf.data.experimental.AUTOTUNE)\n",
    "    val_dset = val_dset.map(wrap_features, num_parallel_calls=tf.data.experimental.AUTOTUNE)\n",
    "    val_dset = val_dset.batch(BATCH_SIZE, drop_remainder=False)\n",
    "    val_dset = val_dset.map(preprocess, num_parallel_calls=tf.data.experimental.AUTOTUNE)\n",
    "    val_dset = val_dset.cache()\n",
    "    val_dset = val_dset.prefetch(buffer_size=tf.data.experimental.AUTOTUNE)"
   ]
  },
  {
   "cell_type": "code",
   "execution_count": null,
   "metadata": {},
   "outputs": [],
   "source": [
    "img_batch, _ = next(iter(train_dset))\n",
    "input_dim = img_batch.shape[1]\n",
    "HIDDEN_DIMS = [128, 64]  # Number of hidden layer neurons\n",
    "\n",
    "learning_rates = [1e-3, 1e-4, 1e-5]\n",
    "lr_decays = [0.95]\n",
    "weight_scales = [1e-3, 1e-4]\n",
    "reg_strengths = [0.5, 0.25]\n",
    "\n",
    "best_val =-1\n",
    "best_solver = None\n",
    "\n",
    "# permute over hyperparameters\n",
    "grid_search = [(learning_rate, lr_decay, weight_scale, reg_strength) \\\n",
    "                for learning_rate in learning_rates \\\n",
    "                for lr_decay in lr_decays \\\n",
    "                for weight_scale in weight_scales \\\n",
    "                for reg_strength in reg_strengths \\\n",
    "                ]\n",
    "\n",
    "for learning_rate, lr_decay, weight_scale, reg_strength in grid_search:\n",
    "    model = FullyConnectedNet(HIDDEN_DIMS, input_dim, num_classes,\n",
    "                            dropout=0.5,\n",
    "                            normalization='batchnorm',\n",
    "                            weight_scale=weight_scale, \n",
    "                            reg=reg_strength)\n",
    "    solver = Solver(model, train_dset, val_dset,\n",
    "                    update_rule='adam',\n",
    "                    optim_config={\n",
    "                        'learning_rate': learning_rate\n",
    "                    },\n",
    "                    lr_decay=lr_decay,\n",
    "                    num_epochs=5,\n",
    "                    verbose=False)\n",
    "\n",
    "    solver.train()\n",
    "\n",
    "    train_loss, train_acc = solver.evaluate(train_dset)\n",
    "    val_loss, val_acc = solver.evaluate(val_dset)\n",
    "    if val_acc >= best_val:\n",
    "        best_val = val_acc\n",
    "        best_solver = solver\n",
    "\n",
    "    print('(learning_rate %e - lr_decay %e - weight_scale %e - reg_strength %e - train_acc %f - val_acc %f)' % (learning_rate, lr_decay, weight_scale, reg_strength, train_acc, val_acc))\n",
    "    print(\"===============================================\")"
   ]
  },
  {
   "cell_type": "code",
   "execution_count": 9,
   "metadata": {},
   "outputs": [
    {
     "name": "stdout",
     "output_type": "stream",
     "text": [
      "Epoch 1/40\n",
      "139/139 - loss: 1.5992 - accuracy: 0.7547 - val_loss: 3.7267 - val_accuracy: 0.7251\n",
      "Epoch 2/40\n",
      "139/139 - loss: 0.8213 - accuracy: 0.9353 - val_loss: 4.3055 - val_accuracy: 0.7531\n",
      "Epoch 3/40\n",
      "139/139 - loss: 0.7304 - accuracy: 0.9473 - val_loss: 4.1427 - val_accuracy: 0.7370\n",
      "Epoch 4/40\n",
      "139/139 - loss: 0.6625 - accuracy: 0.9553 - val_loss: 4.9559 - val_accuracy: 0.7408\n",
      "Epoch 5/40\n",
      "139/139 - loss: 0.6323 - accuracy: 0.9565 - val_loss: 3.8967 - val_accuracy: 0.7496\n",
      "Epoch 6/40\n",
      "139/139 - loss: 0.5861 - accuracy: 0.9623 - val_loss: 4.7624 - val_accuracy: 0.7688\n",
      "Epoch 7/40\n",
      "139/139 - loss: 0.5614 - accuracy: 0.9657 - val_loss: 3.8508 - val_accuracy: 0.7638\n",
      "Epoch 8/40\n",
      "139/139 - loss: 0.5394 - accuracy: 0.9653 - val_loss: 4.9953 - val_accuracy: 0.7588\n",
      "Epoch 9/40\n",
      "139/139 - loss: 0.5213 - accuracy: 0.9653 - val_loss: 5.5378 - val_accuracy: 0.7697\n",
      "Epoch 10/40\n",
      "139/139 - loss: 0.4832 - accuracy: 0.9713 - val_loss: 4.8501 - val_accuracy: 0.7636\n",
      "Epoch 11/40\n",
      "139/139 - loss: 0.4835 - accuracy: 0.9680 - val_loss: 4.2725 - val_accuracy: 0.7554\n",
      "Epoch 12/40\n",
      "139/139 - loss: 0.4623 - accuracy: 0.9718 - val_loss: 5.3296 - val_accuracy: 0.7732\n",
      "Epoch 13/40\n",
      "139/139 - loss: 0.4257 - accuracy: 0.9775 - val_loss: 4.3627 - val_accuracy: 0.7492\n",
      "Epoch 14/40\n",
      "139/139 - loss: 0.4351 - accuracy: 0.9729 - val_loss: 5.2422 - val_accuracy: 0.7657\n",
      "Epoch 15/40\n",
      "139/139 - loss: 0.4072 - accuracy: 0.9780 - val_loss: 5.3705 - val_accuracy: 0.7692\n",
      "Epoch 16/40\n",
      "139/139 - loss: 0.3783 - accuracy: 0.9811 - val_loss: 4.1394 - val_accuracy: 0.7506\n",
      "Epoch 17/40\n",
      "139/139 - loss: 0.3821 - accuracy: 0.9789 - val_loss: 5.3873 - val_accuracy: 0.7703\n",
      "Epoch 18/40\n",
      "139/139 - loss: 0.3619 - accuracy: 0.9820 - val_loss: 4.8128 - val_accuracy: 0.7776\n",
      "Epoch 19/40\n",
      "139/139 - loss: 0.3581 - accuracy: 0.9826 - val_loss: 4.1009 - val_accuracy: 0.7657\n",
      "Epoch 20/40\n",
      "139/139 - loss: 0.3393 - accuracy: 0.9832 - val_loss: 4.1462 - val_accuracy: 0.7592\n",
      "Epoch 21/40\n",
      "139/139 - loss: 0.3234 - accuracy: 0.9860 - val_loss: 4.2274 - val_accuracy: 0.7626\n",
      "Epoch 22/40\n",
      "139/139 - loss: 0.3232 - accuracy: 0.9849 - val_loss: 5.3241 - val_accuracy: 0.7741\n",
      "Epoch 23/40\n",
      "139/139 - loss: 0.3037 - accuracy: 0.9869 - val_loss: 4.0509 - val_accuracy: 0.7707\n",
      "Epoch 24/40\n",
      "139/139 - loss: 0.2901 - accuracy: 0.9888 - val_loss: 5.5026 - val_accuracy: 0.7799\n",
      "Epoch 25/40\n",
      "139/139 - loss: 0.2784 - accuracy: 0.9893 - val_loss: 4.3789 - val_accuracy: 0.7745\n",
      "Epoch 26/40\n",
      "139/139 - loss: 0.2771 - accuracy: 0.9889 - val_loss: 3.8220 - val_accuracy: 0.7611\n",
      "Epoch 27/40\n",
      "139/139 - loss: 0.2682 - accuracy: 0.9903 - val_loss: 4.7025 - val_accuracy: 0.7628\n",
      "Epoch 28/40\n",
      "139/139 - loss: 0.2680 - accuracy: 0.9894 - val_loss: 5.1822 - val_accuracy: 0.7866\n",
      "Epoch 29/40\n",
      "139/139 - loss: 0.2479 - accuracy: 0.9930 - val_loss: 5.3481 - val_accuracy: 0.7640\n",
      "Epoch 30/40\n",
      "139/139 - loss: 0.2422 - accuracy: 0.9923 - val_loss: 5.2032 - val_accuracy: 0.7649\n",
      "Epoch 31/40\n",
      "139/139 - loss: 0.2447 - accuracy: 0.9911 - val_loss: 4.3453 - val_accuracy: 0.7684\n",
      "Epoch 32/40\n",
      "139/139 - loss: 0.2302 - accuracy: 0.9930 - val_loss: 4.3469 - val_accuracy: 0.7659\n",
      "Epoch 33/40\n",
      "139/139 - loss: 0.2295 - accuracy: 0.9931 - val_loss: 4.6556 - val_accuracy: 0.7858\n",
      "Epoch 34/40\n",
      "139/139 - loss: 0.2203 - accuracy: 0.9941 - val_loss: 4.4897 - val_accuracy: 0.7701\n",
      "Epoch 35/40\n",
      "139/139 - loss: 0.2099 - accuracy: 0.9953 - val_loss: 4.6544 - val_accuracy: 0.7692\n",
      "Epoch 36/40\n",
      "139/139 - loss: 0.2040 - accuracy: 0.9945 - val_loss: 4.5846 - val_accuracy: 0.7720\n",
      "Epoch 37/40\n",
      "139/139 - loss: 0.2076 - accuracy: 0.9944 - val_loss: 4.6866 - val_accuracy: 0.7728\n",
      "Epoch 38/40\n",
      "139/139 - loss: 0.2000 - accuracy: 0.9952 - val_loss: 4.9353 - val_accuracy: 0.7713\n",
      "Epoch 39/40\n",
      "139/139 - loss: 0.1907 - accuracy: 0.9961 - val_loss: 3.9621 - val_accuracy: 0.7753\n",
      "Epoch 40/40\n",
      "139/139 - loss: 0.1881 - accuracy: 0.9957 - val_loss: 4.2049 - val_accuracy: 0.7831\n"
     ]
    }
   ],
   "source": [
    "img_batch, _ = next(iter(train_dset))\n",
    "input_dim = img_batch.shape[1]\n",
    "HIDDEN_DIMS = [128, 64]  # Number of hidden layer neurons\n",
    "\n",
    "weight_scale = 2e-3\n",
    "reg = 0.5\n",
    "lr = 5e-5\n",
    "lr_decay = 0.95\n",
    "\n",
    "model = FullyConnectedNet(HIDDEN_DIMS, input_dim, num_classes,\n",
    "                            dropout=0.8,\n",
    "                            normalization='batchnorm',\n",
    "                            weight_scale=2e-2, \n",
    "                            reg=1e-1)\n",
    "solver = Solver(model, train_dset, val_dset,\n",
    "                update_rule='adam',\n",
    "                optim_config={\n",
    "                    'learning_rate': 1e-3\n",
    "                },\n",
    "                lr_decay=0.95,\n",
    "                num_epochs=40,\n",
    "                verbose=True)\n",
    "\n",
    "solver.train()"
   ]
  },
  {
   "cell_type": "code",
   "execution_count": null,
   "metadata": {},
   "outputs": [],
   "source": [
    "plot_loss_acc_history_epoch(solver.loss_history, solver.val_loss_history, solver.accuracy_history, solver.val_accuracy_history)"
   ]
  },
  {
   "cell_type": "code",
   "execution_count": 11,
   "metadata": {},
   "outputs": [
    {
     "name": "stdout",
     "output_type": "stream",
     "text": [
      "Log Loss: 1.044920537042043\n",
      "Val Accuracy: 0.7807531380753138\n",
      "Confusion Matrix:\n",
      "[[370.   7.  24.   1.  32.   1.   7.  28.  10.  13.]\n",
      " [  5. 405.   4.   0.   2.   8.   9.  40.   2.   3.]\n",
      " [  0.   1. 408.   0.   0.   2.  31.   3.  35.   5.]\n",
      " [  3.   2.   4. 324.  55.  17.   3.   4.  11.  60.]\n",
      " [  3.  33.  12.   0. 378.  11.  19.   0.   5.  26.]\n",
      " [  0.   3.   4.   0.   4. 442.  14.   2.  14.  10.]\n",
      " [  0.  19.   7.   0.   1.   1. 422.  13.  11.  13.]\n",
      " [  0.  11.   4.   0.   0.   1.   0. 428.   2.   0.]\n",
      " [  9.  20. 121.   0.   7.   9.  19.  13. 292.   4.]\n",
      " [ 72.   4.  11.   4.   5.  56.  12.   7.   0. 263.]]\n",
      "Confusion Matrix Heatmap:\n"
     ]
    },
    {
     "data": {
      "image/png": "[encoded data removed]",
      "text/plain": [
       "<Figure size 432x288 with 1 Axes>"
      ]
     },
     "metadata": {
      "needs_background": "light"
     },
     "output_type": "display_data"
    }
   ],
   "source": [
    "y_true = []\n",
    "y_pred = []\n",
    "y_scores = []\n",
    "for _,(X_batch, y_batch) in enumerate(val_dset.as_numpy_iterator()):\n",
    "    y_true.append(y_batch)\n",
    "\n",
    "    scores = model.predict(X_batch)\n",
    "    y_scores.append(scores)\n",
    "    prediction = np.argmax(scores, axis=1)\n",
    "    y_pred.append(prediction)\n",
    "    \n",
    "y_true = np.hstack(y_true)\n",
    "y_pred = np.hstack(y_pred)\n",
    "y_scores = np.concatenate(y_scores)\n",
    "\n",
    "# Log Loss Score\n",
    "log_loss = metrics.log_loss(y_true, y_scores)\n",
    "print(f\"Log Loss: {log_loss}\")\n",
    "\n",
    "# Validation Accuracy\n",
    "val_acc = metrics.accuracy(y_true, y_pred)\n",
    "print(f\"Val Accuracy: {val_acc}\")\n",
    "\n",
    "# Confusion Matrix\n",
    "conf_matrix = metrics.confusion_matrix(y_true, y_pred)\n",
    "print('Confusion Matrix:')\n",
    "print(conf_matrix)\n",
    "\n",
    "# Heatmap of the confusion matrix\n",
    "print(\"Confusion Matrix Heatmap:\")\n",
    "plt.imshow(conf_matrix, cmap='hot', interpolation='nearest')\n",
    "plt.show()"
   ]
  },
  {
   "cell_type": "code",
   "execution_count": 2,
   "metadata": {},
   "outputs": [
    {
     "data": {
      "image/png": "[encoded data removed]",
      "text/plain": [
       "<Figure size 864x504 with 2 Axes>"
      ]
     },
     "metadata": {
      "needs_background": "light"
     },
     "output_type": "display_data"
    }
   ],
   "source": [
    "conf_matrix = [\n",
    "    [370, 7, 24, 1, 32, 1, 7, 28, 10, 13],\n",
    "    [5, 405, 4, 0, 2, 8, 9, 40, 2, 3],\n",
    "    [0, 1, 408, 0, 0, 2, 31, 3, 35, 5],\n",
    "    [3, 2, 4, 324, 55, 17, 3, 4, 11, 60],\n",
    "    [3, 33, 12, 0, 378, 11, 19, 0, 5, 26],\n",
    "    [0, 3, 4, 0, 4, 442, 14, 2, 14, 10],\n",
    "    [0, 19, 7, 0, 1, 1, 422, 13, 11, 13],\n",
    "    [0, 11, 4, 0, 0, 1, 0, 428, 2, 0],\n",
    "    [9, 20, 121, 0, 7, 9, 19, 13, 292, 4],\n",
    "    [72, 4, 11, 4, 5, 56, 12, 7, 0, 263]\n",
    "]\n",
    "# Heat Map\n",
    "plt.figure(figsize=(12, 7))\n",
    "heatmap = sns.heatmap(conf_matrix, annot=True, fmt='g')\n",
    "heatmap.set_xlabel(\"Predicted Class\", fontsize = 15)\n",
    "heatmap.set_ylabel(\"True Class\", fontsize = 15)\n",
    "plt.show()"
   ]
  },
  {
   "cell_type": "code",
   "execution_count": 12,
   "metadata": {},
   "outputs": [
    {
     "name": "stdout",
     "output_type": "stream",
     "text": [
      "                              precision    recall  f1-score   support\n",
      "\n",
      "                Safe Driving       0.80      0.75      0.77       493\n",
      "             Texting - Right       0.80      0.85      0.82       478\n",
      "Talking on the phone - Right       0.68      0.84      0.75       485\n",
      "              Texting - Left       0.98      0.67      0.80       483\n",
      " Talking on the phone - Left       0.78      0.78      0.78       487\n",
      "         Operating The Radio       0.81      0.90      0.85       493\n",
      "                    Drinking       0.79      0.87      0.83       487\n",
      "             Reaching Behind       0.80      0.96      0.87       446\n",
      "             Hair and Makeup       0.76      0.59      0.67       494\n",
      "        Talking to Passanger       0.66      0.61      0.63       434\n",
      "\n",
      "                    accuracy                           0.78      4780\n",
      "                   macro avg       0.79      0.78      0.78      4780\n",
      "                weighted avg       0.79      0.78      0.78      4780\n",
      "\n"
     ]
    }
   ],
   "source": [
    "class_desc = ['Safe Driving', 'Texting - Right', 'Talking on the phone - Right', \n",
    "'Texting - Left', 'Talking on the phone - Left', 'Operating The Radio', \n",
    "'Drinking', 'Reaching Behind', 'Hair and Makeup', 'Talking to Passanger']\n",
    "\n",
    "print(classification_report(y_true, y_pred, target_names=class_desc))"
   ]
  }
 ],
 "metadata": {
  "interpreter": {
   "hash": "d7ea954f3ef6ceb8d02884ce666b6345b7d6952bb3a463be1b82c9c49c93db10"
  },
  "kernelspec": {
   "display_name": "Python 3.6.13 64-bit ('ds': conda)",
   "name": "python3"
  },
  "language_info": {
   "codemirror_mode": {
    "name": "ipython",
    "version": 3
   },
   "file_extension": ".py",
   "mimetype": "text/x-python",
   "name": "python",
   "nbconvert_exporter": "python",
   "pygments_lexer": "ipython3",
   "version": "3.6.13"
  },
  "metadata": {
   "interpreter": {
    "hash": "31f2aee4e71d21fbe5cf8b01ff0e069b9275f58929596ceb00d14d90e3e16cd6"
   }
  },
  "orig_nbformat": 2
 },
 "nbformat": 4,
 "nbformat_minor": 2
}
